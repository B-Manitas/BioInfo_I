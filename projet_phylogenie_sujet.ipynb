{
 "cells": [
  {
   "cell_type": "markdown",
   "metadata": {},
   "source": [
    "# Projet phylogénétique\n",
    "Marine Djaffardjy (marine.djaffardjy@u-psud.fr)- Théophile Sanchez - Sarah Cohen Boulakia\n",
    "\n",
    "------\n",
    "\n",
    "## Introduction\n",
    "\n",
    "Au cours de ce projet, vous étudierez trois espèces disparues de félins qui vivaient autrefois sur le continent Américain. Ces trois espèces, le _smilodon_ (tigre à dents de sabre), l'_homotherium_ (_scimitar toothed tigers_) et _M. trumani_ (guépard américain) se sont éteintes il y a environ 13 000 ans, à la fin de la dernière période glaciaire. Des séquences ADN partielles de la protéine cytochrome b de ces espèces ont pu être séquencées et vont vous permettre de retrouver les liens de parentés entre ces espèces et des espèces de félins contemporaines : le chat domestique, le lion, le léopard, le tigre, le puma, le guépard et les chats sauvages africains, chinois et européens. Sont aussi présentes dans le jeu de donnée des séquences issues d'espèces extérieures aux félins.\n",
    "\n",
    "Afin de reconstruire l'arbre phylogénétique de ces espèces, vous utiliserez une méthode basée sur le calcul des distances évolutives entre les séquences ADN des protéines. Sachez qu'une démarche similaire peut-être appliquée aux séquences d'acides aminés.\n",
    "\n",
    "Les différentes étapes qui vous permetterons de construire l'arbre sont détaillées dans ce notebook. Vous devrez implémenter les algorithmes en Python et répondre aux questions dans les cellules prévues.\n",
    "\n",
    "Quelques conseils :\n",
    "- Utiliser au maximum les fonctions présentes dans les packages de python (sauf si il vous est explicitement demandé de les réimplémenter). Si un problème vous paraît courant, il existe surement déjà une fonction pour le résoudre. Pour ce projet vous serez limités aux packages de base, à Numpy et ETE (seulement pour l'affichage des arbres). Vous n'avez pas besoin d'utiliser d'autre packages (pas de pandas).\n",
    "- Si une partie de votre code ne vous semble pas très explicite, ajoutez des commentaires pour l'expliquer. Une personne qui lit votre code doit pouvoir comprendre son fonctionnement facilement.\n",
    "- Faites des fonctions d'affichage pour vos matrices !!\n",
    "- N'hésitez pas à chercher dans la documentation et sur internet. Cependant, faites attention au plagiat !\n",
    "\n",
    "Le projet est à rendre **en binôme** par mail. Vous regrouperez votre notebook et les fichiers nécessaires à son fonctionnement dans une archive portant vos noms et prénoms (il faut que je puisse faire tourner les notebooks)."
   ]
  },
  {
   "cell_type": "markdown",
   "metadata": {},
   "source": [
    "------\n",
    "## Importation des séquences\n",
    "\n",
    "Le format [FASTA](https://fr.wikipedia.org/wiki/FASTA_(format_de_fichier) permet de stocker plusieurs séquences (ADN, ARN ou peptidiques) dans un fichier. Les séquences que vous allez étudier ont été regroupées dans le fichier `cat_dna.fasta`.\n",
    "\n",
    "**Exercice 1 :** Écrivez une fonction permettant d'importer un fichier au format fasta et de le stocker dans un dictionnaire `seq_cat`. Les clés seront les noms des séquences et les valeurs du dictionnaire seront les séquences d'adn.\n",
    "Exportez le dictionnaire obtenu dans un fichier `output/dict_seq.json`."
   ]
  },
  {
   "cell_type": "code",
   "execution_count": 1,
   "metadata": {},
   "outputs": [],
   "source": [
    "# Importe toutes les bibliothèques du projets\n",
    "import json\n",
    "import numpy as np\n",
    "from ete3 import Tree, TreeStyle"
   ]
  },
  {
   "cell_type": "code",
   "execution_count": 2,
   "metadata": {},
   "outputs": [],
   "source": [
    "def load_fasta(filepath, toJson=False):\n",
    "    \"\"\"\n",
    "    Charge un fichier Fasta à partir d'un chemin de fichier et le convertit en dictionnaire ou JSON.\n",
    "\n",
    "    Args:\n",
    "        filepath (str): Chemin d'accès au fichier Fasta\n",
    "        toJson (bool, optional): Indique si le dictionnaire doit être converti en JSON. Par défaut, False.\n",
    "\n",
    "    Returns:\n",
    "        dict: dictionnaire des séquences Fasta. Si toJson est True, retourne le dictionnaire sous forme de chaîne JSON.\n",
    "\n",
    "    Example:\n",
    "        fdict = load_fasta(\"sequences.fasta\", True)\n",
    "    \"\"\"\n",
    "    f = open(filepath, \"r\")\n",
    "    f_str = f.read()\n",
    "    f_sections = f_str.split(\">\")[1:]\n",
    "    f_dict = {}\n",
    "\n",
    "    # Créer le dictionnaire\n",
    "    for sect in f_sections:\n",
    "        key_val = sect.split(\"\\n\")\n",
    "        key = key_val[0]\n",
    "        val = \"\".join(key_val[1:])\n",
    "        f_dict[key] = val\n",
    "\n",
    "    # Transforme en fichier JSON.\n",
    "    if toJson:\n",
    "        f_dict = json.dumps(f_dict)\n",
    "\n",
    "    return f_dict"
   ]
  },
  {
   "cell_type": "code",
   "execution_count": 3,
   "metadata": {},
   "outputs": [
    {
     "name": "stdout",
     "output_type": "stream",
     "text": [
      "Dog DNA : CTAGCCAAAA...\n",
      "Wolf DNA: CTAGCCAAAA...\n"
     ]
    }
   ],
   "source": [
    "FASTA = load_fasta(\"./input/cat_dna.fasta\")\n",
    "\n",
    "print(f\"Dog DNA : {FASTA['Dog DNA'][:10]}...\")\n",
    "print(f\"Wolf DNA: {FASTA['Wolf DNA'][:10]}...\")"
   ]
  },
  {
   "cell_type": "markdown",
   "metadata": {},
   "source": [
    "------\n",
    "## Alignement des séquences\n",
    "\n",
    "La méthode que vous utiliserez pour calculer l'arbre phylogénétique nécessite de calculer la distance évolutive entre les séquences. Avant de pouvoir les calculer, il faut d'abord aligner les séquences en considérant trois types de mutations :\n",
    "- les substitutions (un nucléotide est remplacé par un autre)\n",
    "- les insertions\n",
    "- les délétions\n",
    "Par exemple, les séquences \"ACTCCTGA\" et \"ATCTCGTGA\" ont plusieurs alignements possibles : \n",
    "\n",
    "$A_1$ :\n",
    "```\n",
    "-ACTCCTGA\n",
    "ATCTCGTGA\n",
    "```\n",
    "\n",
    "$A_2$ :\n",
    "```\n",
    "A-CTCCTGA\n",
    "ATCTCGTGA\n",
    "```\n",
    "\n",
    "$A_3$ :\n",
    "```\n",
    "AC-TCCTGA\n",
    "ATCTCGTGA\n",
    "```\n",
    ".\n",
    "\n",
    ".\n",
    "\n",
    ".\n",
    "\n",
    "Le \"-\" désigne un *gap*, c'est à dire un \"trou\" dans l'alignement qui a été causé par une insertion ou une déletion. On regroupe ces deux types de mutations sous le terme indel.\n",
    "\n",
    "Ces alignements correspondent à une multitude d'histoires phylogénétiques différentes. Pour sélectionner le meilleur alignement il faut donc introduire l'hypothèse du maximum de parcimonie qui privilégie l'histoire phylogénétique qui implique le moins d'hypothèses et donc, le moins de changements évolutifs. Par exemple, parmis les trois alignements ci-dessus on preferera l'alignement 2 car il correspond au scénario avec le moins de mutations:\n",
    "- l'alignement 1 implique au minimum 1 indel et 2 substitutions\n",
    "- l'alignement 2 implique au minimum 1 indel et 1 substitutions\n",
    "- l'alignement 3 implique au minimum 1 indel et 2 substitutions\n",
    "\n",
    "On peut maintenant définir un score d'identité que l'on va augmenter de 1 lorsque qu'il n'y pas eu de mutation et ainsi obtenir la matrice suivante :\n",
    "\n",
    "|   &nbsp;   | A | C | G | T | - |\n",
    "|   -   | - | - | - | - | - |\n",
    "| **A** | 1 | 0 | 0 | 0 | 0 |\n",
    "| **C** | 0 | 1 | 0 | 0 | 0 |\n",
    "| **G** | 0 | 0 | 1 | 0 | 0 |\n",
    "| **T** | 0 | 0 | 0 | 1 | 0 |\n",
    "| **-** | 0 | 0 | 0 | 0 | 0 |\n",
    "\n",
    "Cette matrice correspond au modèle d'évolution de l'ADN défini par Jukes et Cantor qui fait l'hypothèse d'un taux de mutation équivalent pour chacun des nucléotides. Cependant, en réalité ces taux ne sont pas les mêmes partout, on sait par exemple que le taux de transition (substitution A$\\leftrightarrow$G ou C$\\leftrightarrow$T) est différent du taux de transversions (substitution A$\\leftrightarrow$T, C$\\leftrightarrow$G, C$\\leftrightarrow$A ou G$\\leftrightarrow$T) et que d'autres facteurs devrait être pris en compte comme la fréquence du nucléotide dans l'ADN. [C'est pour cette raison qu'il existe beaucoup de modèles différents d'écrivant l'évolution de l'ADN.](https://en.wikipedia.org/wiki/Models_of_DNA_evolution) Dans la suite de ce projet nous utiliserons la matrice de similarité $S$ suivante : \n",
    "\n",
    "|   &nbsp;   | A  | C  | G  | T  | -  |\n",
    "|   -   | -  | -  | -  | -  | -  |\n",
    "| **A** | 10 | -1 | -3 | -4 | -5 |\n",
    "| **C** | -1 | 7  | -5 | -3 | -5 |\n",
    "| **G** | -3 | -5 | 9  | 0  | -5 |\n",
    "| **T** | -4 | -3 | 0  | 8  | -5 |\n",
    "| **-** | -5 | -5 | -5 | -5 | 0  |\n",
    "\n",
    "**Exercice 2 :** Écriver la fonction permettant de calculer le score entre deux alignements avec la matrice de similarité précédente puis afficher le score des trois alignements $A_1$, $A_2$ et $A_3$. La classe permettant d'importer une matrice et de calculer le score entre deux lettres vous est déjà fournie, la matrice de similarité est stockée dans le fichier `dna_matrix` :\n"
   ]
  },
  {
   "cell_type": "code",
   "execution_count": 4,
   "metadata": {},
   "outputs": [
    {
     "name": "stdout",
     "output_type": "stream",
     "text": [
      "Score between G and C: -5.0\n",
      "Score between A and a gap: -5.0\n"
     ]
    }
   ],
   "source": [
    "class SimilarityMatrix:\n",
    "    \"\"\"\n",
    "    Une classe pour représenter une matrice de similarité de séquences d'acides aminés\n",
    "\n",
    "    Args:\n",
    "        letters (list) : Liste des lettres représentant les acides aminés.\n",
    "        values (numpy array) : Matrice de similarité, avec des scores de similarité entre les acides aminés.\n",
    "\n",
    "    Methods:\n",
    "        init(self, filename) : Initialise la matrice de similarité en lisant un fichier de similarité.\n",
    "        score(self, letter1, letter2) : Retourne le score de similarité entre letter1 et letter2.\n",
    "        compute_score(self, seq1, seq2) : Calcule et retourne le score total de similarité entre les séquences seq1 et seq2.\n",
    "    \"\"\"\n",
    "\n",
    "    def __init__(self, filename):\n",
    "        with open(filename) as f:\n",
    "            self.letters = f.readline().split()\n",
    "            self.values = np.loadtxt(\n",
    "                filename, skiprows=1, usecols=range(1, len(self.letters) + 1))\n",
    "\n",
    "    def score(self, letter1, letter2):  # return the similarity score between letter1 and letter2\n",
    "        \"\"\"\n",
    "        Retourne le score de similarité entre letter1 et letter2.\n",
    "\n",
    "        Args:\n",
    "            letter1 (str) : La première lettre représentant un acide aminé à comparer.\n",
    "            letter2 (str) : La deuxième lettre représentant un acide aminé à comparer.\n",
    "\n",
    "        Returns:\n",
    "            score (int) : Score de similarité entre letter1 et letter2.\n",
    "\n",
    "        Example:\n",
    "        matrix = SimilarityMatrix(\"similarity_matrix.txt\")\n",
    "        score = matrix.score(\"A\", \"A\")\n",
    "        \"\"\"\n",
    "        return self.values[self.letters.index(letter1)][self.letters.index(letter2)]\n",
    "\n",
    "    def compute_score(self, seq1, seq2):\n",
    "        \"\"\"\n",
    "        Calcule et retourne le score total de similarité entre les séquences seq1 et seq2.\n",
    "\n",
    "        Args:\n",
    "            seq1 (str) : La première séquence d'acides aminés à comparer.\n",
    "            seq2 (str) : La deuxième séquence d'acides aminés à comparer.\n",
    "\n",
    "        Returns:\n",
    "            seq_scores (int) : Score total de similarité entre les séquences seq1 et seq2.\n",
    "\n",
    "        Exemple:\n",
    "            matrix = SimilarityMatrix(\"similarity_matrix.txt\")\n",
    "            seq_scores = matrix.compute_score(\"AAA\", \"AAA\")\n",
    "        \"\"\"\n",
    "        seq_len = len(seq1)\n",
    "        seq_scores = 0\n",
    "        for i in range(seq_len):\n",
    "            seq_scores += self.score(seq1[i], seq2[i])\n",
    "\n",
    "        return seq_scores\n",
    "\n",
    "\n",
    "# Example\n",
    "similarity_matrix = SimilarityMatrix('input/dna_matrix')\n",
    "print('Score between G and C:', similarity_matrix.score('G', 'C'))\n",
    "print('Score between A and a gap:', similarity_matrix.score('-', 'A'))\n"
   ]
  },
  {
   "cell_type": "code",
   "execution_count": 5,
   "metadata": {},
   "outputs": [
    {
     "name": "stdout",
     "output_type": "stream",
     "text": [
      "Score bettween A1: 35.0\n",
      "Score bettween A2: 49.0\n",
      "Score bettween A3: 39.0\n"
     ]
    }
   ],
   "source": [
    "# Calcule le score de similarité entre les séquences suivantes.\n",
    "seq = \"ATCTCGTGA\"\n",
    "seq_1 = \"-ACTCCTGA\"\n",
    "seq_2 = \"A-CTCCTGA\"\n",
    "seq_3 = \"AC-TCCTGA\"\n",
    "\n",
    "print('Score bettween A1:', similarity_matrix.compute_score(seq, seq_1))\n",
    "print('Score bettween A2:', similarity_matrix.compute_score(seq, seq_2))\n",
    "print('Score bettween A3:', similarity_matrix.compute_score(seq, seq_3))\n"
   ]
  },
  {
   "cell_type": "markdown",
   "metadata": {},
   "source": [
    "------\n",
    "### Algorithme de Needleman-Wunsch\n",
    "\n",
    "Maintenant que vous avez vu ce qu'est une matrice de similarité et comment calculer le score de similarité d'un alignement, vous allez devoir implémenter un algorithme permettant de trouver le meilleur alignement global entre deux séquences. Avec deux séquences à aligner de taille $n$ et $m$, la première étape consiste à initialiser deux matrices de taille $(n+1) \\times (m+1)$. La première est la matrice de score $M$ et la seconde sera la matrice de *traceback* $T$. \n",
    "\n",
    "Par exemple, avec la matrice $S$ et les séquences $A =$ \"ACTCCTGA\" et $B =$ \"ATCTCGTGA\", on initialise $M$ comme si l'on ajoutait des *gaps* partout :\n",
    "\n",
    "|   &nbsp;   | - | A | T | C | T | C | G | T | G | A |\n",
    "|   -   | - | - | - | - | - | - | - | - | - | - |\n",
    "| **-** | 0 |-5 |-10|-15|-20|-25|-30|-35|-40|-45|\n",
    "| **A** |-5 | &nbsp; | &nbsp; | &nbsp; | &nbsp; | &nbsp; | &nbsp; | &nbsp; | &nbsp; | &nbsp; |\n",
    "| **C** |-10| &nbsp; | &nbsp; | &nbsp; | &nbsp; | &nbsp; | &nbsp; | &nbsp; | &nbsp; | &nbsp; |\n",
    "| **T** |-15| &nbsp; | &nbsp; | &nbsp; | &nbsp; | &nbsp; | &nbsp; | &nbsp; | &nbsp; | &nbsp; |\n",
    "| **C** |-20| &nbsp; | &nbsp; | &nbsp; | &nbsp; | &nbsp; | &nbsp; | &nbsp; | &nbsp; | &nbsp; |\n",
    "| **C** |-25| &nbsp; | &nbsp; | &nbsp; | &nbsp; | &nbsp; | &nbsp; | &nbsp; | &nbsp; | &nbsp; |\n",
    "| **T** |-30| &nbsp; | &nbsp; | &nbsp; | &nbsp; | &nbsp; | &nbsp; | &nbsp; | &nbsp; | &nbsp; |\n",
    "| **G** |-45| &nbsp; | &nbsp; | &nbsp; | &nbsp; | &nbsp; | &nbsp; | &nbsp; | &nbsp; | &nbsp; |\n",
    "| **A** |-40| &nbsp; | &nbsp; | &nbsp; | &nbsp; | &nbsp; | &nbsp; | &nbsp; | &nbsp; | &nbsp; ||\n",
    "\n",
    "Puis on initialise $T$ :\n",
    "\n",
    "|   &nbsp;   | - | A | T | C | T | C | G | T | G | A |\n",
    "|   -   | - | - | - | - | - | - | - | - | - | - |\n",
    "| **-** | o | l | l | l | l | l | l | l | l | l |\n",
    "| **A** | u | &nbsp; | &nbsp; | &nbsp; | &nbsp; | &nbsp; | &nbsp; | &nbsp; | &nbsp; | &nbsp; |\n",
    "| **C** | u | &nbsp; | &nbsp; | &nbsp; | &nbsp; | &nbsp; | &nbsp; | &nbsp; | &nbsp; | &nbsp; |\n",
    "| **T** | u | &nbsp; | &nbsp; | &nbsp; | &nbsp; | &nbsp; | &nbsp; | &nbsp; | &nbsp; | &nbsp; |\n",
    "| **C** | u | &nbsp; | &nbsp; | &nbsp; | &nbsp; | &nbsp; | &nbsp; | &nbsp; | &nbsp; | &nbsp; |\n",
    "| **C** | u | &nbsp; | &nbsp; | &nbsp; | &nbsp; | &nbsp; | &nbsp; | &nbsp; | &nbsp; | &nbsp; |\n",
    "| **T** | u | &nbsp; | &nbsp; | &nbsp; | &nbsp; | &nbsp; | &nbsp; | &nbsp; | &nbsp; | &nbsp; |\n",
    "| **G** | u | &nbsp; | &nbsp; | &nbsp; | &nbsp; | &nbsp; | &nbsp; | &nbsp; | &nbsp; | &nbsp; |\n",
    "| **A** | u | &nbsp; | &nbsp; | &nbsp; | &nbsp; | &nbsp; | &nbsp; | &nbsp; | &nbsp; | &nbsp; ||\n",
    "\n",
    "\n",
    "Il faut ensuite remplir la matrice $M$ en suivant la formule $M_{ij} = \\max(M_{i-1j-1} + s(A_i, B_j), M_{ij-1} + s(A_i, gap), M_{i-1j} + s(B_j,gap) )$ avec $i \\in {2, \\dots, n+1}$, $j \\in {2, \\dots, m+1}$ et la fonction $s$ qui calcule le score de similarité entre deux nucléotides. Pour chaque case de $T$ on remplie par :\n",
    "- 'd' (*diagonal*) si $M_{ij}$ a été calculé en utilisant la diagonale $M_{i-1j-1}$,\n",
    "- 'l' (*left*) si $M_{ij}$ a été calculé en utilisant la case de gauche $M_{ij-1}$,\n",
    "- 'u' (*up*) si $M_{ij}$ a été calculé en utilisant la case du haut $M_{i-1j}$.\n",
    "\n",
    "On obtient alors les matrices suivantes $M$ et $T$ : \n",
    "\n",
    "|   &nbsp;   | - | A | T | C | T | C | G | T | G | A |\n",
    "|   -   | - | - | - | - | - | - | - | - | - | - |\n",
    "| **-** |  0| -5|-10|-15|-20|-25|-30|-35|-40|-45|\n",
    "| **A** | -5| 10|  5|  0| -5|-10|-15|-20|-25|-30|\n",
    "| **C** |-10|  5|  7| 12|  7|  2| -3| -8|-13|-18|\n",
    "| **T** |-15|  0| 13|  8| 20| 15| 10|  5|  0| -5|\n",
    "| **C** |-20| -5|  8| 20| 15| 27| 22| 17| 12|  7|\n",
    "| **C** |-25|-10|  3| 15| 17| 22| 22| 19| 14| 11|\n",
    "| **T** |-30|-15| -2| 10| 23| 18| 22| 30| 25| 20|\n",
    "| **G** |-35|-20| -7|  5| 18| 18| 27| 25| 39| 34|\n",
    "| **A** |-40|-25|-12|  0| 13| 17| 22| 23| 34| 49|\n",
    "\n",
    "|   &nbsp;   | - | A | T | C | T | C | G | T | G | A |\n",
    "|   -   | - | - | - | - | - | - | - | - | - | - |\n",
    "| **-** | o | l | l | l | l | l | l | l | l | l |\n",
    "| **A** | u | d | l | l | l | l | l | l | l | d |\n",
    "| **C** | u | u | d | d | l | d | l | l | l | l |\n",
    "| **T** | u | u | d | l | d | l | l | d | l | l |\n",
    "| **C** | u | u | u | d | l | d | l | l | l | l |\n",
    "| **C** | u | u | u | d | d | d | d | d | l | d |\n",
    "| **T** | u | u | d | u | d | l | d | d | l | l |\n",
    "| **G** | u | u | u | u | u | d | d | u | d | l |\n",
    "| **A** | u | d | u | u | u | d | u | d | u | d |\n",
    "\n",
    "Il suffit maintenant de regarder le dernier élément $M_{nm} = 49$ pour avoir le score de l'alignement. Pour avoir l'alignement lui-même, il faut partir de $T_{nm}$ et remonter la \"trace\" jusqu'à arriver au 'o'. Un 'd' correspond à un *match* entre les deux séquences, 'l' à un *gap* dans la séquence $A$ et 'u' à un *gap* dans la séquence $B$. En revenant à l'exemple précédent on obtient la trace suivante :\n",
    "\n",
    "|   &nbsp;   | - | A | T | C | T | C | G | T | G | A |\n",
    "|   -   | - | - | - | - | - | - | - | - | - | - |\n",
    "| **-** | o | &nbsp; | &nbsp; | &nbsp; | &nbsp; | &nbsp; | &nbsp; | &nbsp; | &nbsp; | &nbsp; |\n",
    "| **A** | &nbsp; | d | l | &nbsp; | &nbsp; | &nbsp; | &nbsp; | &nbsp; | &nbsp; | &nbsp; |\n",
    "| **C** | &nbsp; | &nbsp; | &nbsp; | d | &nbsp; | &nbsp; | &nbsp; | &nbsp; | &nbsp; | &nbsp; |\n",
    "| **T** | &nbsp; | &nbsp; | &nbsp; | &nbsp; | d | &nbsp; | &nbsp; | &nbsp; | &nbsp; | &nbsp; |\n",
    "| **C** | &nbsp; | &nbsp; | &nbsp; | &nbsp; | &nbsp; | d | &nbsp; | &nbsp; | &nbsp; | &nbsp; |\n",
    "| **C** | &nbsp; | &nbsp; | &nbsp; | &nbsp; | &nbsp; | &nbsp; | d | &nbsp; | &nbsp; | &nbsp; |\n",
    "| **T** | &nbsp; | &nbsp; | &nbsp; | &nbsp; | &nbsp; | &nbsp; | &nbsp; | d | &nbsp; | &nbsp; |\n",
    "| **G** | &nbsp; | &nbsp; | &nbsp; | &nbsp; | &nbsp; | &nbsp; | &nbsp; | &nbsp; | d | &nbsp; |\n",
    "| **A** | &nbsp; | &nbsp; | &nbsp; | &nbsp; | &nbsp; | &nbsp; | &nbsp; | &nbsp; | &nbsp; | d |\n",
    "\n",
    "Elle correspond à l'alignement :\n",
    "```\n",
    "A-CTCCTGA\n",
    "ATCTCGTGA\n",
    "```\n",
    "\n",
    "**Exercice 3 :** Implémenter l'algorithme de Needlman et Wunsch. Il prendra en paramètre deux séquences et une matrice de similarité et retournera leur alignement. Tester le avec les séquences \"ACTCCTGA\" et \"ATCTCGTGA\"."
   ]
  },
  {
   "cell_type": "code",
   "execution_count": 140,
   "metadata": {},
   "outputs": [],
   "source": [
    "def needlmanWunsch(seq_a, seq_b, mat_similar):\n",
    "    \"\"\"\n",
    "    Retourne l'alignement optimal entre seqA et seqB en utilisant l'algorithme de Needleman-Wunsch.\n",
    "\n",
    "    Paramètres:\n",
    "        seqA (str) : La première séquence à aligner.\n",
    "        seqB (str) : La deuxième séquence à aligner.\n",
    "        mat_similar (SimilarityMatrix) : Matrice de similarité utilisée pour évaluer la similitude entre les acides aminés.\n",
    "\n",
    "    Returns:\n",
    "        str : Alignement optimal entre seqA et seqB.\n",
    "\n",
    "    Example:\n",
    "        matrix = SimilarityMatrix(\"similarity_matrix.txt\")\n",
    "        seqA = \"AGCT\"\n",
    "        seqB = \"AACT\"\n",
    "        align = needlmanWunsch(seqA, seqB, similarMatrix=matrix)\n",
    "    \"\"\"\n",
    "    # Définit le nombre de lignes et de colonnes de la matrice.\n",
    "    line = len(seq_a) + 1\n",
    "    col = len(seq_b) + 1\n",
    "\n",
    "    # Récupère le score de gap.\n",
    "    score_gap = int(mat_similar.score(seq_a[0], \"-\"))\n",
    "\n",
    "    # Initialise les matrices M et T.\n",
    "    mat_m = np.zeros((line, col))\n",
    "    mat_t = np.full((line, col), \" \")\n",
    "\n",
    "    # Définit les valeurs initiaux pour la matrice M.\n",
    "    mat_m[0] = np.arange(0, score_gap*col, score_gap)\n",
    "    mat_m[:, :1] = np.arange(0, score_gap*line, score_gap).reshape((line, 1))\n",
    "\n",
    "    # Définit les valeurs initiales pour la matrice T\n",
    "    mat_t[0] = np.full((1, col), \"l\")\n",
    "    mat_t[:, :1] = np.full((line, 1), \"u\")\n",
    "    mat_t[0, 0] = \"o\"\n",
    "\n",
    "    # Remplit la matrice M et T.\n",
    "    for i in range(1, line):\n",
    "        for j in range(1, col):\n",
    "            # Calcule les valeurs suivant la formule.\n",
    "            val_d = mat_m[i-1, j-1] + mat_similar.score(seq_a[i-1], seq_b[j-1])\n",
    "            val_l = mat_m[i, j-1] + mat_similar.score(seq_a[i-1], \"-\")\n",
    "            val_u = mat_m[i-1, j] + mat_similar.score(seq_b[j-1], \"-\")\n",
    "\n",
    "            mat_m[i, j] = max(val_d, val_l, val_u)\n",
    "\n",
    "            # Assigne les valeurs de la matrice de T.\n",
    "            if mat_m[i, j] == val_d:\n",
    "                mat_t[i, j] = \"d\"\n",
    "\n",
    "            elif mat_m[i, j] == val_l:\n",
    "                mat_t[i, j] = \"l\"\n",
    "\n",
    "            elif mat_m[i, j] == val_u:\n",
    "                mat_t[i, j] = \"u\"\n",
    "\n",
    "    # Algorithme pour calculer l'alignement en suivant la matrice T.\n",
    "    # Indice sur les cases.\n",
    "    i, j = line-1, col-1\n",
    "\n",
    "    # Indice des séquences pour calculer l'alignement.\n",
    "    k_a, k_b = len(seq_a) - 1, len(seq_b) - 1\n",
    "\n",
    "    cur_letter, align_a, align_b = \"\", \"\", \"\"\n",
    "    is_end = False\n",
    "\n",
    "    # On stope lorsqu'on rencontre une lettre 'o'.\n",
    "    while not is_end:\n",
    "        # On récupère la lettre de la case i, j.\n",
    "        #print(i, j, mat_t[i, j])\n",
    "        cur_letter = mat_t[i, j]\n",
    "\n",
    "        # On compare la lettre i, j avec les lettres 'd', 'u' et 'l'.\n",
    "        # On se déplace en diagonale.\n",
    "        if cur_letter == \"d\":\n",
    "            align_a += seq_a[k_a]\n",
    "            align_b += seq_b[k_b]\n",
    "            i, j = i - 1, j - 1\n",
    "            k_a, k_b = k_a - 1, k_b - 1\n",
    "\n",
    "        # On se déplace d'une case à gauche.\n",
    "        elif cur_letter == \"l\":\n",
    "            align_a += \"-\"\n",
    "            align_b += seq_b[k_b]\n",
    "            j -= 1\n",
    "            k_b = k_b - 1\n",
    "\n",
    "        # On se déplace d'une case en haut.\n",
    "        elif cur_letter == \"u\":\n",
    "            align_a += seq_a[k_a]\n",
    "            align_b += \"-\"\n",
    "            i -= 1\n",
    "            k_a = k_a - 1\n",
    "        \n",
    "\n",
    "\n",
    "        # On stoppe la boucle.\n",
    "        else:\n",
    "            is_end = True\n",
    "        \n",
    "        #print(align_a,align_b)\n",
    "\n",
    "        # On se déplace à la diagonale suivante à la prochaite étape.\n",
    "        \n",
    "\n",
    "    return align_a[::-1], align_b[::-1]\n"
   ]
  },
  {
   "cell_type": "code",
   "execution_count": 141,
   "metadata": {},
   "outputs": [
    {
     "data": {
      "text/plain": [
       "('A-CTCCTGA', 'ATCTCGTGA')"
      ]
     },
     "execution_count": 141,
     "metadata": {},
     "output_type": "execute_result"
    }
   ],
   "source": [
    "# Calcule l'alignement des séquences suivantes :\n",
    "needlmanWunsch(\"ACTCCTGA\", \"ATCTCGTGA\", similarity_matrix)"
   ]
  },
  {
   "cell_type": "markdown",
   "metadata": {},
   "source": [
    "----\n",
    "## Matrice de distance\n",
    "\n",
    "Dans le cas de séquences très proches, on estime que la distance évolutive réelle entre les séquences est proche de la p-distance qui est simplement le nombre de substitution dans l'alignement sur le nombre total de nucléotide. Pour simplifier, on ignore les positions alignées à des gaps. On applique ensuite la correction de Jukes-Cantor. Sa formule est $-(\\frac{3}{4})\\ln(1-(\\frac{4}{3})\\times \\textit{p-distance})$.\n",
    "\n",
    "**Exercice 4 :** Implémenter la fonction retournant la matrice de distance à partir d'un dictionnaire de séquences. "
   ]
  },
  {
   "cell_type": "code",
   "execution_count": 151,
   "metadata": {},
   "outputs": [],
   "source": [
    "def distance_sequence(seq1, seq2):\n",
    "    \"\"\"\n",
    "    Calcule la distance de deux séquences de caractères.\n",
    "\n",
    "    Args :\n",
    "        seq1 (str) : La première séquence.\n",
    "        seq2 (str) : La deuxième séquence.\n",
    "\n",
    "    Returns :\n",
    "        float : La distance entre les deux séquences.\n",
    "    \n",
    "    Errors:\n",
    "        Les séquences seq1 et seq2 doivent avoir la même taille.\n",
    "    \"\"\"\n",
    "    if len(seq1) != len(seq2): assert \"Les séquences doivent avoir la même taille.\"\n",
    "    \n",
    "    p_distance = 0\n",
    "\n",
    "    # Calcule la p_distance des séquences.\n",
    "    cpt = 0\n",
    "    for i in range(len(seq1)):\n",
    "        if seq1[i] != seq2[i] and seq1[i] != \"-\" and seq2[i] != \"-\":\n",
    "            p_distance += 1    \n",
    "\n",
    "        #on ignore les gaps   \n",
    "        if seq1[i] == \"-\":\n",
    "            cpt += 1\n",
    "        if seq2[i] == \"-\":\n",
    "            cpt += 1\n",
    "\n",
    "    p_distance /= len(seq1) - cpt\n",
    "    return -3/4*np.log(1-4/3 * p_distance)\n",
    "\n",
    "\n",
    "def mat_distance(dict_seq: dict):\n",
    "    \"\"\"\n",
    "    Calculer la matrice de distance entre toutes les séquences dans un dictionnaire de séquences donné.\n",
    "\n",
    "    Args:\n",
    "        dictSeq (dict): Dictionnaire de séquences où les clés sont les noms des séquences \n",
    "        et les valeurs sont les séquences réelles.\n",
    "    \n",
    "    Returns: \n",
    "        numpy.ndarray : matrice de distance de taille n x n où n est le nombre de séquences dans le dictionnaire.\n",
    "    \"\"\"\n",
    "    # Récupère les clefs des séquences.\n",
    "    keys = np.array(list(dict_seq.keys()))\n",
    "    n = len(keys) + 1\n",
    "    keys = np.insert(keys, 0, f\"({n}, {n})\")\n",
    "\n",
    "    # Ajoutes les indices qui corresponds au clefs.\n",
    "\n",
    "    mat_dist = np.zeros((n, n), dtype=object)\n",
    "    mat_dist[0] = keys\n",
    "    mat_dist[:, 0] = keys\n",
    "    \n",
    "    # Remplit la matrice\n",
    "    for i in range(1, n):\n",
    "        for j in range(1, i):\n",
    "            seq_1 = dict_seq[keys[i]]\n",
    "            seq_2 = dict_seq[keys[j]]\n",
    "            seq_1, seq_2 = needlmanWunsch(seq_1, seq_2, similarity_matrix)\n",
    "            mat_dist[i, j] = distance_sequence(seq_1, seq_2)\n",
    "\n",
    "    return mat_dist"
   ]
  },
  {
   "cell_type": "code",
   "execution_count": 152,
   "metadata": {},
   "outputs": [],
   "source": [
    "def print_mat_dist(mat_dist):\n",
    "    \"\"\"\n",
    "        Affiche la matrice de distances d'une taille n x n\n",
    "\n",
    "        Args:\n",
    "            mat_dist (np.ndarray) : Matrice de distances n x n\n",
    "    \"\"\"\n",
    "    end = \" | \"\n",
    "    n = len(mat_dist)\n",
    "\n",
    "    def normalize_text(txt: str): return txt.ljust(8)[:8]\n",
    "\n",
    "    # Affiche les clefs des collones\n",
    "    for key_col in mat_dist[0]:\n",
    "        key = normalize_text(key_col)\n",
    "        print(f\"{key}\", end=end)\n",
    "\n",
    "    print(\"\\n\")\n",
    "\n",
    "    # Affiche chaque lignes\n",
    "    for row in range(1, n):\n",
    "\n",
    "        # Affiche les clefs des lignes\n",
    "        key = normalize_text(mat_dist[row, 0])\n",
    "        print(f\"{key}\", end=end)\n",
    "\n",
    "        for col in range(1, n):\n",
    "            dist_value = mat_dist[row, col]\n",
    "\n",
    "            if dist_value == 0:\n",
    "                print(f\"{0:8}\", end=end)\n",
    "\n",
    "            else:\n",
    "                print(f\"{dist_value:.2e}\", end=end)\n",
    "\n",
    "        print(\"\\n\")\n"
   ]
  },
  {
   "cell_type": "code",
   "execution_count": 153,
   "metadata": {},
   "outputs": [
    {
     "name": "stdout",
     "output_type": "stream",
     "text": [
      "(20, 20) | Sabertoo | Homother | American | Spotted  | Striped  | Chinese  | African  | Felis Ca | Wild Cat | Cheetah  | Puma DNA | Tiger DN | Lion DNA | Leopard  | Dog DNA  | Wolf DNA | Black Be | Brown Be | Cave Bea | \n",
      "\n",
      "Sabertoo |        0 |        0 |        0 |        0 |        0 |        0 |        0 |        0 |        0 |        0 |        0 |        0 |        0 |        0 |        0 |        0 |        0 |        0 |        0 | \n",
      "\n",
      "Homother | 1.40e-01 |        0 |        0 |        0 |        0 |        0 |        0 |        0 |        0 |        0 |        0 |        0 |        0 |        0 |        0 |        0 |        0 |        0 |        0 | \n",
      "\n",
      "American | 1.60e-01 | 1.70e-01 |        0 |        0 |        0 |        0 |        0 |        0 |        0 |        0 |        0 |        0 |        0 |        0 |        0 |        0 |        0 |        0 |        0 | \n",
      "\n",
      "Spotted  | 1.31e-01 | 1.45e-01 | 1.67e-01 |        0 |        0 |        0 |        0 |        0 |        0 |        0 |        0 |        0 |        0 |        0 |        0 |        0 |        0 |        0 |        0 | \n",
      "\n",
      "Striped  | 1.75e-01 | 1.76e-01 | 1.62e-01 | 1.27e-01 |        0 |        0 |        0 |        0 |        0 |        0 |        0 |        0 |        0 |        0 |        0 |        0 |        0 |        0 |        0 | \n",
      "\n",
      "Chinese  | 1.35e-01 | 1.66e-01 | 1.02e-01 | 1.47e-01 | 1.61e-01 |        0 |        0 |        0 |        0 |        0 |        0 |        0 |        0 |        0 |        0 |        0 |        0 |        0 |        0 | \n",
      "\n",
      "African  | 1.52e-01 | 1.81e-01 | 1.10e-01 | 1.70e-01 | 1.53e-01 | 9.80e-02 |        0 |        0 |        0 |        0 |        0 |        0 |        0 |        0 |        0 |        0 |        0 |        0 |        0 | \n",
      "\n",
      "Felis Ca | 1.57e-01 | 1.76e-01 | 1.30e-01 | 1.66e-01 | 1.67e-01 | 1.10e-01 | 1.78e-02 |        0 |        0 |        0 |        0 |        0 |        0 |        0 |        0 |        0 |        0 |        0 |        0 | \n",
      "\n",
      "Wild Cat | 1.57e-01 | 1.85e-01 | 1.14e-01 | 1.62e-01 | 1.62e-01 | 1.02e-01 | 1.06e-02 | 1.42e-02 |        0 |        0 |        0 |        0 |        0 |        0 |        0 |        0 |        0 |        0 |        0 | \n",
      "\n",
      "Cheetah  | 1.57e-01 | 1.76e-01 | 7.81e-02 | 1.75e-01 | 1.32e-01 | 1.15e-01 | 1.06e-01 | 1.18e-01 | 1.10e-01 |        0 |        0 |        0 |        0 |        0 |        0 |        0 |        0 |        0 |        0 | \n",
      "\n",
      "Puma DNA | 1.87e-01 | 2.06e-01 | 5.50e-02 | 1.98e-01 | 2.02e-01 | 1.23e-01 | 1.39e-01 | 1.60e-01 | 1.43e-01 | 9.00e-02 |        0 |        0 |        0 |        0 |        0 |        0 |        0 |        0 |        0 | \n",
      "\n",
      "Tiger DN | 1.39e-01 | 1.92e-01 | 1.26e-01 | 1.45e-01 | 1.85e-01 | 1.23e-01 | 1.14e-01 | 1.27e-01 | 1.18e-01 | 1.15e-01 | 1.18e-01 |        0 |        0 |        0 |        0 |        0 |        0 |        0 |        0 | \n",
      "\n",
      "Lion DNA | 1.44e-01 | 1.98e-01 | 1.52e-01 | 1.76e-01 | 1.81e-01 | 1.35e-01 | 1.40e-01 | 1.53e-01 | 1.44e-01 | 1.24e-01 | 1.36e-01 | 1.06e-01 |        0 |        0 |        0 |        0 |        0 |        0 |        0 | \n",
      "\n",
      "Leopard  | 1.43e-01 | 2.01e-01 | 1.52e-01 | 1.76e-01 | 1.89e-01 | 1.36e-01 | 1.24e-01 | 1.28e-01 | 1.28e-01 | 1.50e-01 | 1.53e-01 | 1.30e-01 | 7.78e-02 |        0 |        0 |        0 |        0 |        0 |        0 | \n",
      "\n",
      "Dog DNA  | 2.04e-01 | 2.32e-01 | 2.31e-01 | 2.10e-01 | 2.02e-01 | 2.05e-01 | 2.27e-01 | 2.08e-01 | 2.22e-01 | 1.99e-01 | 2.40e-01 | 2.28e-01 | 2.22e-01 | 2.03e-01 |        0 |        0 |        0 |        0 |        0 | \n",
      "\n",
      "Wolf DNA | 2.04e-01 | 2.32e-01 | 2.31e-01 | 2.10e-01 | 2.02e-01 | 2.05e-01 | 2.27e-01 | 2.08e-01 | 2.22e-01 | 1.99e-01 | 2.40e-01 | 2.28e-01 | 2.22e-01 | 2.03e-01 |        0 |        0 |        0 |        0 |        0 | \n",
      "\n",
      "Black Be | 2.04e-01 | 2.29e-01 | 1.91e-01 | 2.18e-01 | 2.01e-01 | 1.95e-01 | 2.04e-01 | 2.17e-01 | 2.18e-01 | 1.91e-01 | 1.85e-01 | 2.00e-01 | 1.69e-01 | 1.91e-01 | 2.15e-01 | 2.15e-01 |        0 |        0 |        0 | \n",
      "\n",
      "Brown Be | 2.13e-01 | 2.29e-01 | 2.28e-01 | 2.20e-01 | 2.02e-01 | 2.05e-01 | 2.42e-01 | 2.38e-01 | 2.47e-01 | 2.19e-01 | 1.95e-01 | 1.95e-01 | 1.86e-01 | 2.09e-01 | 2.01e-01 | 2.01e-01 | 1.27e-01 |        0 |        0 | \n",
      "\n",
      "Cave Bea | 2.22e-01 | 1.91e-01 | 1.90e-01 | 1.87e-01 | 1.92e-01 | 2.04e-01 | 2.09e-01 | 2.04e-01 | 2.13e-01 | 1.91e-01 | 1.85e-01 | 1.59e-01 | 1.87e-01 | 2.09e-01 | 1.80e-01 | 1.80e-01 | 1.02e-01 | 7.01e-02 |        0 | \n",
      "\n"
     ]
    }
   ],
   "source": [
    "# Calcule la matrice de distance\n",
    "MAT_DIST_FASTA = mat_distance(FASTA)\n",
    "print_mat_dist(MAT_DIST_FASTA)"
   ]
  },
  {
   "cell_type": "markdown",
   "metadata": {},
   "source": [
    "**Exercice 4 bis :** À quoi sert la correction de Jukes-Cantor ? Quelle hypothèse fait-elle ? "
   ]
  },
  {
   "cell_type": "markdown",
   "metadata": {},
   "source": [
    "Réponse :"
   ]
  },
  {
   "cell_type": "markdown",
   "metadata": {},
   "source": [
    "------\n",
    "## Construction d'un arbre avec UPGMA\n",
    "\n",
    "Grâce aux mesures de distances entre les séquences, on peut maintenant de construire l'arbre phylogénétique des globines. Vous allez devoir pour cela implémenter l'algorithme UPGMA (*unweighted pair group method with arithmetic mean*) qui, malgré son nom compliqué, est l'une des méthodes les plus simples pour la construction d'arbre.\n",
    "\n",
    "### Le format Newick\n",
    "\n",
    "Le format Newick est l'un des formats utilisé en phylogénie pour représenter un arbre sous la forme d'une chaine de caractère. Le principe est simple, les groupes ayant la même racine sont écrit entre parenthèses et séparés par des virgules. Un groupe peut être soit une feuille de l'arbre (dans notre cas une séquence), soit un autre groupe. La longueur de la branche de chaque groupe est écrite après un double point et l'arbre est terminé par un point virgule. Pour afficher l'arbre on peut utiliser les fonction du package ETE : "
   ]
  },
  {
   "cell_type": "code",
   "execution_count": 11,
   "metadata": {},
   "outputs": [
    {
     "data": {
      "image/png": "[encoded data removed]",
      "text/plain": [
       "<IPython.core.display.Image object>"
      ]
     },
     "execution_count": 11,
     "metadata": {},
     "output_type": "execute_result"
    }
   ],
   "source": [
    "# Affichage de l'arbre au format Newick\n",
    "newick_tree = '((A:2,(B:2,C:3):5):5,D:4);'\n",
    "t = Tree(newick_tree)\n",
    "ts = TreeStyle()\n",
    "ts.show_branch_length = True\n",
    "t.render('%%inline', w=183, units='mm', tree_style=ts)"
   ]
  },
  {
   "cell_type": "markdown",
   "metadata": {},
   "source": [
    "**Exercice 5 :** Reécrivez l'arbre suivant au format Newick puis afficher-le. Les nombres correspondent aux longueurs des branches :\n",
    "![](input/tree.png)"
   ]
  },
  {
   "cell_type": "code",
   "execution_count": 12,
   "metadata": {},
   "outputs": [
    {
     "data": {
      "image/png": "[encoded data removed]",
      "text/plain": [
       "<IPython.core.display.Image object>"
      ]
     },
     "execution_count": 12,
     "metadata": {},
     "output_type": "execute_result"
    }
   ],
   "source": [
    "# Affichage de l'arbre au format Newick.\n",
    "newick_tree = '(((A:10, B:8, C:7):5, (D:9, (E:5, F:5):2):2):0);'\n",
    "t = Tree(newick_tree)\n",
    "ts = TreeStyle()\n",
    "ts.show_branch_length = True\n",
    "t.render('%%inline', w=183, units='mm', tree_style=ts)\n"
   ]
  },
  {
   "cell_type": "markdown",
   "metadata": {},
   "source": [
    "**Exercice 6 :** Expliquer la relation de parenté entre $A$, $B$ et $C$ ? Qu'elles sont les hypothèses qui pourraient expliquer ce type d'embranchement dans un arbre ? Donner une réponse détaillée."
   ]
  },
  {
   "cell_type": "markdown",
   "metadata": {},
   "source": [
    "Réponse : "
   ]
  },
  {
   "cell_type": "markdown",
   "metadata": {},
   "source": [
    "### UPGMA\n",
    "\n",
    "L'algorithme UPGMA se base sur la matrice de distance entre les séquences. À chaque itération, les séquences avec la distance la plus faible sont regroupées puis une nouvelle matrice de distance est calculée avec le nouveau groupe. Cette étape est répétée jusqu'à n'avoir plus qu'un seul groupe. Par exemple, avec la matrice de distance entre les séquences $A$, $B$, $C$ et $D$ suivante :\n",
    "\n",
    "|   &nbsp;   | A | B | C | D |\n",
    "|   -   | - | - | - | - |\n",
    "| **A** | &nbsp; | &nbsp; | &nbsp; | &nbsp; |\n",
    "| **B** | 4 | &nbsp; | &nbsp; | &nbsp; |\n",
    "| **C** | 8 | 8 | &nbsp; | &nbsp; |\n",
    "| **D** | 2 | 4 | 8 | &nbsp; |\n",
    "\n",
    "Les séquences $A$ et $D$ sont les plus proches ($distance(A,D)=2$). On les regroupe et on met à jour la matrice :\n",
    "\n",
    "|   &nbsp;   | (A, D) | B | C |\n",
    "|   -   | - | - | - |\n",
    "| **(A, D)** | &nbsp; | &nbsp; | &nbsp; |\n",
    "| **B** | 4 | &nbsp; | &nbsp; |\n",
    "| **C** | 8 | 8 | &nbsp; | &nbsp; |\n",
    "\n",
    "On regroupe maintenant $(A,D)$ et $B$ ($distance((A,D),B) = 4$) :\n",
    "\n",
    "|   &nbsp;   | ((A, D), B) | C |\n",
    "|   -   | - | - |\n",
    "| **((A, D), B)** | &nbsp; | &nbsp; |\n",
    "| **C** | 8 | &nbsp; |\n",
    "\n",
    "Important : les nouvelles distances sont calculées en moyennant les distances entre les membres du nouveau groupe et des groupes non modifiés pondéré par le nombre d'UTOs dans chaque groupe. Avec $i$ et $j$ les deux membres du groupe nouvellement formé et k les groupes restant : $d_{ij,k} = \\frac{n_id_{ik}}{n_i + n_j}+ \\frac{n_jd_{jk}}{n_i + n_j}$. Par exemple avec la distance entre $((A, D), B)$ et $C$:\n",
    "\n",
    "$distance(((A, D), B), C) = (distance((A, D), C)*2 + distance(B, C)) \\mathbin{/} 3 = (8*2 + 8) \\mathbin{/} 3 = 8 $.\n",
    "\n",
    "L'arbre final écrit dans le format Newick est : $((A, D), B), C);$ \n",
    "\n",
    "Et avec les distances : $((A:1, D:1):1, B:2):2, C:4);$ \n",
    "\n",
    "**Exercice 7 :** Implémenter une version d'UPGMA qui calcule l'arbre au format Newick **avec les distances** puis appliquer votre algorithme aux données. "
   ]
  },
  {
   "cell_type": "code",
   "execution_count": 71,
   "metadata": {},
   "outputs": [],
   "source": [
    "def upgma(mat_d):\n",
    "    (n, m) = mat_d.shape\n",
    "    mins = {}\n",
    "\n",
    "    keys = mat_d[0]\n",
    "\n",
    "    for i in range(1, n):\n",
    "        for j in range(1, i):\n",
    "            x = mat_d[i, j]\n",
    "            mins[x] = (keys[i], keys[j])\n",
    "\n",
    "    mins_keys = list(mins.keys())\n",
    "    x_min = np.min(mins_keys)\n",
    "    \n",
    "\n",
    "    groupe = {}\n",
    "    for i in range(len(mins)):\n",
    "        if x_min == mins_keys[i]:\n",
    "            groupe[x_min] = mins[x_min]\n",
    "\n",
    "    return list(groupe.values())\n",
    "\n",
    "def upgma_replace(mat_d, groupe):\n",
    "    new_keys = mat_d[0][1:]\n",
    "    print(groupe)\n",
    "    for (a, b) in groupe:\n",
    "        new_keys = new_keys[new_keys != a]\n",
    "        new_keys = new_keys[new_keys != b]\n",
    "    \n",
    "    for g in groupe:\n",
    "        new_keys = np.insert(new_keys, 0, f\"{g}\")\n",
    "\n",
    "    n = len(new_keys) + 1\n",
    "    new_keys = np.insert(new_keys, 0, f\"{(n, n)}\")\n",
    "    new_mat_d = np.zeros((n, n), dtype=object)\n",
    "    new_mat_d[0] = new_keys\n",
    "    new_mat_d[:, 0] = new_keys\n",
    "\n",
    "\n",
    "    for i in range(1, n):\n",
    "        for j in range(1, n):\n",
    "            seq_1 = \n",
    "            seq_2 = dict_seq[keys[j]]\n",
    "            new_mat_d[i, j] = distance_sequence(seq_1, seq_2)\n",
    "\n",
    "    return new_mat_d\n",
    "        \n",
    "    \n",
    "\n",
    "\n",
    "\n"
   ]
  },
  {
   "cell_type": "code",
   "execution_count": 72,
   "metadata": {},
   "outputs": [
    {
     "name": "stdout",
     "output_type": "stream",
     "text": [
      "[('Wolf DNA', 'Dog DNA')]\n",
      "(19, 19) | ('Wolf D | Sabertoo | Homother | American | Spotted  | Striped  | Chinese  | African  | Felis Ca | Wild Cat | Cheetah  | Puma DNA | Tiger DN | Lion DNA | Leopard  | Black Be | Brown Be | Cave Bea | \n",
      "\n",
      "('Wolf D |        0 |        0 |        0 |        0 |        0 |        0 |        0 |        0 |        0 |        0 |        0 |        0 |        0 |        0 |        0 |        0 |        0 |        0 | \n",
      "\n",
      "Sabertoo |        0 |        0 |        0 |        0 |        0 |        0 |        0 |        0 |        0 |        0 |        0 |        0 |        0 |        0 |        0 |        0 |        0 |        0 | \n",
      "\n",
      "Homother |        0 |        0 |        0 |        0 |        0 |        0 |        0 |        0 |        0 |        0 |        0 |        0 |        0 |        0 |        0 |        0 |        0 |        0 | \n",
      "\n",
      "American |        0 |        0 |        0 |        0 |        0 |        0 |        0 |        0 |        0 |        0 |        0 |        0 |        0 |        0 |        0 |        0 |        0 |        0 | \n",
      "\n",
      "Spotted  |        0 |        0 |        0 |        0 |        0 |        0 |        0 |        0 |        0 |        0 |        0 |        0 |        0 |        0 |        0 |        0 |        0 |        0 | \n",
      "\n",
      "Striped  |        0 |        0 |        0 |        0 |        0 |        0 |        0 |        0 |        0 |        0 |        0 |        0 |        0 |        0 |        0 |        0 |        0 |        0 | \n",
      "\n",
      "Chinese  |        0 |        0 |        0 |        0 |        0 |        0 |        0 |        0 |        0 |        0 |        0 |        0 |        0 |        0 |        0 |        0 |        0 |        0 | \n",
      "\n",
      "African  |        0 |        0 |        0 |        0 |        0 |        0 |        0 |        0 |        0 |        0 |        0 |        0 |        0 |        0 |        0 |        0 |        0 |        0 | \n",
      "\n",
      "Felis Ca |        0 |        0 |        0 |        0 |        0 |        0 |        0 |        0 |        0 |        0 |        0 |        0 |        0 |        0 |        0 |        0 |        0 |        0 | \n",
      "\n",
      "Wild Cat |        0 |        0 |        0 |        0 |        0 |        0 |        0 |        0 |        0 |        0 |        0 |        0 |        0 |        0 |        0 |        0 |        0 |        0 | \n",
      "\n",
      "Cheetah  |        0 |        0 |        0 |        0 |        0 |        0 |        0 |        0 |        0 |        0 |        0 |        0 |        0 |        0 |        0 |        0 |        0 |        0 | \n",
      "\n",
      "Puma DNA |        0 |        0 |        0 |        0 |        0 |        0 |        0 |        0 |        0 |        0 |        0 |        0 |        0 |        0 |        0 |        0 |        0 |        0 | \n",
      "\n",
      "Tiger DN |        0 |        0 |        0 |        0 |        0 |        0 |        0 |        0 |        0 |        0 |        0 |        0 |        0 |        0 |        0 |        0 |        0 |        0 | \n",
      "\n",
      "Lion DNA |        0 |        0 |        0 |        0 |        0 |        0 |        0 |        0 |        0 |        0 |        0 |        0 |        0 |        0 |        0 |        0 |        0 |        0 | \n",
      "\n",
      "Leopard  |        0 |        0 |        0 |        0 |        0 |        0 |        0 |        0 |        0 |        0 |        0 |        0 |        0 |        0 |        0 |        0 |        0 |        0 | \n",
      "\n",
      "Black Be |        0 |        0 |        0 |        0 |        0 |        0 |        0 |        0 |        0 |        0 |        0 |        0 |        0 |        0 |        0 |        0 |        0 |        0 | \n",
      "\n",
      "Brown Be |        0 |        0 |        0 |        0 |        0 |        0 |        0 |        0 |        0 |        0 |        0 |        0 |        0 |        0 |        0 |        0 |        0 |        0 | \n",
      "\n",
      "Cave Bea |        0 |        0 |        0 |        0 |        0 |        0 |        0 |        0 |        0 |        0 |        0 |        0 |        0 |        0 |        0 |        0 |        0 |        0 | \n",
      "\n"
     ]
    }
   ],
   "source": [
    "a = upgma(MAT_DIST_FASTA)\n",
    "print_mat_dist( upgma_replace(MAT_DIST_FASTA, a))"
   ]
  },
  {
   "cell_type": "markdown",
   "metadata": {},
   "source": [
    "**Exercice 8 :** Quelles sont les hypothèses faites par UPGMA ? Semblent-elles respectées dans le cas présent ?"
   ]
  },
  {
   "cell_type": "markdown",
   "metadata": {},
   "source": [
    "Réponse : "
   ]
  },
  {
   "cell_type": "markdown",
   "metadata": {},
   "source": [
    "----\n",
    "## Enracinement de l'arbre\n",
    "\n",
    "Après avoir utilisé UPGMA pour réaliser votre arbre, l'enracinement s'est normalement fait au poids moyen. \n",
    "\n",
    "**Exercice 9 :** Quelle autre méthode est-il possible d'utiliser pour enraciner un arbre ? Pouvez-vous l'utilisez ici ? Si oui, afficher le nouvel arbre."
   ]
  },
  {
   "cell_type": "markdown",
   "metadata": {},
   "source": [
    "**Réponse :** "
   ]
  },
  {
   "cell_type": "markdown",
   "metadata": {},
   "source": [
    "----\n",
    "## Neighbor-joining\n",
    "\n",
    "Le neighbor-joining est un autre algorithme permettant de calculer un arbre phylogénique à partir d'une matrice de distance. Il a l'avantage de faire moins d'hypothèse qu'UPGMA sur les données (elles ne sont plus forcément ultramétrique) et il donne donc de meilleurs arbres dans presque tout les cas. Vous trouverez un example d'application de cet algorithme [ici](http://www.evolution-textbook.org/content/free/tables/Ch_27/T11_EVOW_Ch27.pdf).\n",
    "\n",
    "**Exercice 10 :** Implémenter l'algorithme du neighbor-joining, appliquer-le aux données puis enraciner l'arbre."
   ]
  },
  {
   "cell_type": "code",
   "execution_count": 15,
   "metadata": {},
   "outputs": [],
   "source": [
    "# À remplir"
   ]
  },
  {
   "cell_type": "markdown",
   "metadata": {},
   "source": [
    "----\n",
    "## Bootstrap\n",
    "\n",
    "Le bootstrap est une méthode permettant de calculer la robustesse des branches d'un arbre. Il sagit de recréer un jeu de données artificiel en tirant n positions dans l'alignement des séquences avec remise, n étant la longueur de l'alignement. On recréer un arbre à partir de ces nouvelles données puis on le compare avec l'arbre obtenu avec les données réelles. Si une branche de l'arbre réelle est présente dans l'arbre artificiel, son bootstrap augmente de 1. On répètera la procédure 100 fois afin d'avoir un score sur 100 pour chaque branche.\n",
    "\n",
    "**Exercice 11 :** Calculer le bootstrap des branches des arbres obtenus avec UPGMA et neighbor-joining."
   ]
  },
  {
   "cell_type": "code",
   "execution_count": 16,
   "metadata": {},
   "outputs": [],
   "source": [
    "# À remplir"
   ]
  },
  {
   "cell_type": "markdown",
   "metadata": {},
   "source": [
    "----\n",
    "## Conclusion\n",
    "\n",
    "**Exercice 12 :** Quelles sont vos conclusions par rapport à l'arbre phylogénique de _smilodon_, _homotherium_ et _M. trumani_ ? Comparer les deux méthodes. Comment expliquer les caractéristiques morphologiques similaires entre ces trois espèces ? Une réponse détaillée est attendue."
   ]
  },
  {
   "cell_type": "markdown",
   "metadata": {
    "collapsed": true
   },
   "source": [
    "Réponse :"
   ]
  }
 ],
 "metadata": {
  "kernelspec": {
   "display_name": "Python 3",
   "language": "python",
   "name": "python3"
  },
  "language_info": {
   "codemirror_mode": {
    "name": "ipython",
    "version": 3
   },
   "file_extension": ".py",
   "mimetype": "text/x-python",
   "name": "python",
   "nbconvert_exporter": "python",
   "pygments_lexer": "ipython3",
   "version": "3.8.5"
  },
  "vscode": {
   "interpreter": {
    "hash": "6a1fcfa924509b009983544460197c0f5f87f468637b00f76af210ba5c394cb8"
   }
  }
 },
 "nbformat": 4,
 "nbformat_minor": 2
}
